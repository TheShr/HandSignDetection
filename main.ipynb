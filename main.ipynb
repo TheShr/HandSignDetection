{
 "cells": [
  {
   "cell_type": "code",
   "execution_count": 1,
   "id": "047089a9-80b5-4fed-a08d-7f8a690ba007",
   "metadata": {},
   "outputs": [
    {
     "name": "stderr",
     "output_type": "stream",
     "text": [
      "WARNING:absl:Compiled the loaded model, but the compiled metrics have yet to be built. `model.compile_metrics` will be empty until you train or evaluate the model.\n"
     ]
    }
   ],
   "source": [
    "import cv2\n",
    "import numpy as np\n",
    "from tensorflow.keras.models import load_model\n",
    "import mediapipe as mp\n",
    "\n",
    "# Load model and labels\n",
    "model = load_model(\"hand_sign_model_limited.h5\")\n",
    "labels = np.load(\"labels_limited.npy\")\n",
    "\n",
    "IMG_SIZE = 64\n",
    "\n",
    "# Initialize MediaPipe\n",
    "mp_hands = mp.solutions.hands\n",
    "hands = mp_hands.Hands(max_num_hands=1)\n",
    "mp_draw = mp.solutions.drawing_utils\n",
    "\n",
    "# Start webcam\n",
    "cap = cv2.VideoCapture(0)\n",
    "\n",
    "while True:\n",
    "    ret, frame = cap.read()\n",
    "    if not ret:\n",
    "        break\n",
    "\n",
    "    h, w, _ = frame.shape\n",
    "    img_rgb = cv2.cvtColor(frame, cv2.COLOR_BGR2RGB)\n",
    "    results = hands.process(img_rgb)\n",
    "\n",
    "    if results.multi_hand_landmarks:\n",
    "        for hand_landmarks in results.multi_hand_landmarks:\n",
    "            # Draw hand landmarks\n",
    "            mp_draw.draw_landmarks(frame, hand_landmarks, mp_hands.HAND_CONNECTIONS)\n",
    "\n",
    "            # Get bounding box from landmarks\n",
    "            x_list = [lm.x * w for lm in hand_landmarks.landmark]\n",
    "            y_list = [lm.y * h for lm in hand_landmarks.landmark]\n",
    "            x_min, x_max = int(min(x_list)), int(max(x_list))\n",
    "            y_min, y_max = int(min(y_list)), int(max(y_list))\n",
    "\n",
    "            # Add some padding\n",
    "            padding = 20\n",
    "            x_min = max(0, x_min - padding)\n",
    "            y_min = max(0, y_min - padding)\n",
    "            x_max = min(w, x_max + padding)\n",
    "            y_max = min(h, y_max + padding)\n",
    "\n",
    "            # Extract hand ROI\n",
    "            roi = frame[y_min:y_max, x_min:x_max]\n",
    "            if roi.size == 0:\n",
    "                continue\n",
    "\n",
    "            roi_resized = cv2.resize(roi, (IMG_SIZE, IMG_SIZE))\n",
    "            roi_normalized = roi_resized.astype('float32') / 255.0\n",
    "            roi_reshaped = np.expand_dims(roi_normalized, axis=0)\n",
    "\n",
    "            # Predict\n",
    "            pred = model.predict(roi_reshaped, verbose=0)\n",
    "            class_id = np.argmax(pred)\n",
    "            predicted_label = labels[class_id]\n",
    "\n",
    "            # Show prediction\n",
    "            cv2.putText(frame, f'{predicted_label}', (x_min, y_min - 10),\n",
    "                        cv2.FONT_HERSHEY_SIMPLEX, 1.2, (0, 255, 0), 3)\n",
    "\n",
    "    cv2.imshow(\"Hand Sign Detection (MediaPipe)\", frame)\n",
    "    if cv2.waitKey(1) & 0xFF == ord('q'):\n",
    "        break\n",
    "\n",
    "cap.release()\n",
    "cv2.destroyAllWindows()\n"
   ]
  },
  {
   "cell_type": "code",
   "execution_count": null,
   "id": "02a96e3e-ffe5-4d1e-94d6-1db2c973d93f",
   "metadata": {},
   "outputs": [],
   "source": []
  }
 ],
 "metadata": {
  "kernelspec": {
   "display_name": "Python 3 (ipykernel)",
   "language": "python",
   "name": "python3"
  },
  "language_info": {
   "codemirror_mode": {
    "name": "ipython",
    "version": 3
   },
   "file_extension": ".py",
   "mimetype": "text/x-python",
   "name": "python",
   "nbconvert_exporter": "python",
   "pygments_lexer": "ipython3",
   "version": "3.9.21"
  }
 },
 "nbformat": 4,
 "nbformat_minor": 5
}
